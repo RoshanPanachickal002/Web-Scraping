{
  "nbformat": 4,
  "nbformat_minor": 0,
  "metadata": {
    "colab": {
      "provenance": [],
      "authorship_tag": "ABX9TyMU56YGjpM+W1T2xDi86kP+",
      "include_colab_link": true
    },
    "kernelspec": {
      "name": "python3",
      "display_name": "Python 3"
    },
    "language_info": {
      "name": "python"
    }
  },
  "cells": [
    {
      "cell_type": "markdown",
      "metadata": {
        "id": "view-in-github",
        "colab_type": "text"
      },
      "source": [
        "<a href=\"https://colab.research.google.com/github/RoshanPanachickal002/Web-Scraping/blob/main/Web_Scrape_001.ipynb\" target=\"_parent\"><img src=\"https://colab.research.google.com/assets/colab-badge.svg\" alt=\"Open In Colab\"/></a>"
      ]
    },
    {
      "cell_type": "code",
      "execution_count": null,
      "metadata": {
        "id": "aZDRVmB35rWK",
        "colab": {
          "base_uri": "https://localhost:8080/"
        },
        "outputId": "4a52007c-ff1e-44a3-dce2-043069bbe952"
      },
      "outputs": [
        {
          "output_type": "stream",
          "name": "stdout",
          "text": [
            "List of courses offered at Daulat Ram College : \n",
            "['Botany', 'Biochemistry', 'Commerce', 'Chemistry', 'NHE', 'English', 'Music', 'History', 'Mathematics', 'Hindi', 'Economics', 'Philosophy', 'Physics', 'Psychology', 'Sanskrit', 'Political Science', 'Physical Edu.', 'Zoology']\n"
          ]
        }
      ],
      "source": [
        "import requests\n",
        "from bs4 import BeautifulSoup\n",
        "\n",
        "url = \"https://www.dr.du.ac.in/our-department.php\"\n",
        "r = requests.get(url)\n",
        "\n",
        "soup = BeautifulSoup(r.text, \"html\")\n",
        "\n",
        "div_boxes = soup.find_all(\"button\", class_ =\"button\")\n",
        "c = []\n",
        "print(\"List of courses offered at Daulat Ram College : \")\n",
        "\n",
        "for i in div_boxes:\n",
        "    #print(i.text)\n",
        "    c.append(i.text)\n",
        "print(c)"
      ]
    }
  ]
}